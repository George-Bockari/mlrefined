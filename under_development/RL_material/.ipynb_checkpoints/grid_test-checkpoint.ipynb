{
 "cells": [
  {
   "cell_type": "code",
   "execution_count": 3,
   "metadata": {
    "collapsed": true
   },
   "outputs": [],
   "source": [
    "%matplotlib inline\n",
    "import matplotlib.pyplot as plt\n",
    "import numpy as np"
   ]
  },
  {
   "cell_type": "code",
   "execution_count": 290,
   "metadata": {
    "collapsed": false
   },
   "outputs": [],
   "source": [
    "def color_grid(**argv):\n",
    "    # remove local variables from input dict\n",
    "    numx = argv['numx']\n",
    "    numy = argv['numy']\n",
    "    ax1 = argv['axis']\n",
    "    num_hazards = argv['num_hazards']\n",
    "\n",
    "    # produce range for plot\n",
    "    z = np.round(10*np.random.rand(numx,numy))\n",
    "    \n",
    "    # default tile color\n",
    "    z = 4*np.ones((numx,numy)) \n",
    "    \n",
    "    # hazard color = bright red\n",
    "    ind = np.random.randint(1,numx,num_hazards)\n",
    "    ind2 = np.random.randint(1,numy,num_hazards)\n",
    "    ind3 = np.asarray([ind,ind2]).T\n",
    "    for i in range(np.shape(ind3)[0]): \n",
    "        s = ind3[i]\n",
    "        a = s[0]\n",
    "        b = s[1]\n",
    "        z[a][b] = 9\n",
    "    \n",
    "    # goal color = green\n",
    "    z[numx-1][numy-1] = 5\n",
    "    \n",
    "    # starting agent color = dark blue\n",
    "    z[numx-1][0] = 3\n",
    "    \n",
    "    # plot grid\n",
    "    ax1.pcolormesh(z,edgecolors = 'k',linewidth = 0.01,vmin = 1, vmax = 10)\n",
    "    \n",
    "    # clean up plot\n",
    "    ax1.axis('off')\n",
    "    ax1.set_xlim(-0.1,numy +0.1 + 0.1);\n",
    "    ax1.set_ylim(-0.1,numx +1 + 0.1);"
   ]
  },
  {
   "cell_type": "code",
   "execution_count": 293,
   "metadata": {
    "collapsed": false
   },
   "outputs": [
    {
     "data": {
      "image/png": "[encoded data removed]",
      "text/plain": [
       "<matplotlib.figure.Figure at 0x1102134d0>"
      ]
     },
     "metadata": {},
     "output_type": "display_data"
    }
   ],
   "source": [
    "fig1 = plt.figure()\n",
    "ax1 = fig1.add_subplot(121, aspect='equal')\n",
    "ax2 = fig1.add_subplot(122, aspect='equal')\n",
    "\n",
    "color_grid(numx = 13,numy = 13,axis = ax1,num_hazards = 10)\n",
    "color_grid(numx = 13,numy = 13,axis = ax2,num_hazards = 10)"
   ]
  },
  {
   "cell_type": "code",
   "execution_count": 288,
   "metadata": {
    "collapsed": false
   },
   "outputs": [
    {
     "name": "stdout",
     "output_type": "stream",
     "text": [
      "Help on function pcolormesh in module matplotlib.pyplot:\n",
      "\n",
      "pcolormesh(*args, **kwargs)\n",
      "    Plot a quadrilateral mesh.\n",
      "    \n",
      "    Call signatures::\n",
      "    \n",
      "      pcolormesh(C)\n",
      "      pcolormesh(X, Y, C)\n",
      "      pcolormesh(C, **kwargs)\n",
      "    \n",
      "    Create a pseudocolor plot of a 2-D array.\n",
      "    \n",
      "    pcolormesh is similar to :func:`~matplotlib.pyplot.pcolor`,\n",
      "    but uses a different mechanism and returns a different\n",
      "    object; pcolor returns a\n",
      "    :class:`~matplotlib.collections.PolyCollection` but pcolormesh\n",
      "    returns a\n",
      "    :class:`~matplotlib.collections.QuadMesh`.  It is much faster,\n",
      "    so it is almost always preferred for large arrays.\n",
      "    \n",
      "    *C* may be a masked array, but *X* and *Y* may not.  Masked\n",
      "    array support is implemented via *cmap* and *norm*; in\n",
      "    contrast, :func:`~matplotlib.pyplot.pcolor` simply does not\n",
      "    draw quadrilaterals with masked colors or vertices.\n",
      "    \n",
      "    Keyword arguments:\n",
      "    \n",
      "      *cmap*: [ *None* | Colormap ]\n",
      "        A :class:`matplotlib.colors.Colormap` instance. If *None*, use\n",
      "        rc settings.\n",
      "    \n",
      "      *norm*: [ *None* | Normalize ]\n",
      "        A :class:`matplotlib.colors.Normalize` instance is used to\n",
      "        scale luminance data to 0,1. If *None*, defaults to\n",
      "        :func:`normalize`.\n",
      "    \n",
      "      *vmin*/*vmax*: [ *None* | scalar ]\n",
      "        *vmin* and *vmax* are used in conjunction with *norm* to\n",
      "        normalize luminance data.  If either is *None*, it\n",
      "        is autoscaled to the respective min or max\n",
      "        of the color array *C*.  If not *None*, *vmin* or\n",
      "        *vmax* passed in here override any pre-existing values\n",
      "        supplied in the *norm* instance.\n",
      "    \n",
      "      *shading*: [ 'flat' | 'gouraud' ]\n",
      "        'flat' indicates a solid color for each quad.  When\n",
      "        'gouraud', each quad will be Gouraud shaded.  When gouraud\n",
      "        shading, edgecolors is ignored.\n",
      "    \n",
      "      *edgecolors*: [*None* | ``'None'`` | ``'face'`` | color |\n",
      "                     color sequence]\n",
      "    \n",
      "        If *None*, the rc setting is used by default.\n",
      "    \n",
      "        If ``'None'``, edges will not be visible.\n",
      "    \n",
      "        If ``'face'``, edges will have the same color as the faces.\n",
      "    \n",
      "        An mpl color or sequence of colors will set the edge color\n",
      "    \n",
      "      *alpha*: ``0 <= scalar <= 1``  or *None*\n",
      "        the alpha blending value\n",
      "    \n",
      "    Return value is a :class:`matplotlib.collections.QuadMesh`\n",
      "    object.\n",
      "    \n",
      "    kwargs can be used to control the\n",
      "    :class:`matplotlib.collections.QuadMesh` properties:\n",
      "    \n",
      "      agg_filter: unknown\n",
      "      alpha: float or None \n",
      "      animated: [True | False] \n",
      "      antialiased or antialiaseds: Boolean or sequence of booleans \n",
      "      array: unknown\n",
      "      axes: an :class:`~matplotlib.axes.Axes` instance \n",
      "      clim: a length 2 sequence of floats \n",
      "      clip_box: a :class:`matplotlib.transforms.Bbox` instance \n",
      "      clip_on: [True | False] \n",
      "      clip_path: [ (:class:`~matplotlib.path.Path`, :class:`~matplotlib.transforms.Transform`) | :class:`~matplotlib.patches.Patch` | None ] \n",
      "      cmap: a colormap or registered colormap name \n",
      "      color: matplotlib color arg or sequence of rgba tuples\n",
      "      contains: a callable function \n",
      "      edgecolor or edgecolors: matplotlib color spec or sequence of specs \n",
      "      facecolor or facecolors: matplotlib color spec or sequence of specs \n",
      "      figure: a :class:`matplotlib.figure.Figure` instance \n",
      "      gid: an id string \n",
      "      hatch: [ '/' | '\\\\' | '|' | '-' | '+' | 'x' | 'o' | 'O' | '.' | '*' ] \n",
      "      label: string or anything printable with '%s' conversion. \n",
      "      linestyle or linestyles or dashes: ['solid' | 'dashed', 'dashdot', 'dotted' | (offset, on-off-dash-seq) | ``'-'`` | ``'--'`` | ``'-.'`` | ``':'`` | ``'None'`` | ``' '`` | ``''``]\n",
      "      linewidth or lw or linewidths: float or sequence of floats \n",
      "      norm: unknown\n",
      "      offset_position: unknown\n",
      "      offsets: float or sequence of floats \n",
      "      path_effects: unknown\n",
      "      picker: [None|float|boolean|callable] \n",
      "      pickradius: unknown\n",
      "      rasterized: [True | False | None] \n",
      "      sketch_params: unknown\n",
      "      snap: unknown\n",
      "      transform: :class:`~matplotlib.transforms.Transform` instance \n",
      "      url: a url string \n",
      "      urls: unknown\n",
      "      visible: [True | False] \n",
      "      zorder: any number \n",
      "    \n",
      "    .. seealso::\n",
      "    \n",
      "        :func:`~matplotlib.pyplot.pcolor`\n",
      "            For an explanation of the grid orientation and the\n",
      "            expansion of 1-D *X* and/or *Y* to 2-D arrays.\n",
      "    \n",
      "    Notes\n",
      "    -----\n",
      "    \n",
      "    In addition to the above described arguments, this function can take a\n",
      "    **data** keyword argument. If such a **data** argument is given, the\n",
      "    following arguments are replaced by **data[<arg>]**:\n",
      "    \n",
      "    * All positional and all keyword arguments.\n",
      "    \n",
      "    \n",
      "    \n",
      "    \n",
      "    Additional kwargs: hold = [True|False] overrides default hold state\n",
      "\n"
     ]
    }
   ],
   "source": [
    "help(plt.pcolormesh)"
   ]
  },
  {
   "cell_type": "code",
   "execution_count": null,
   "metadata": {
    "collapsed": true
   },
   "outputs": [],
   "source": []
  },
  {
   "cell_type": "code",
   "execution_count": null,
   "metadata": {
    "collapsed": true
   },
   "outputs": [],
   "source": []
  }
 ],
 "metadata": {
  "anaconda-cloud": {},
  "kernelspec": {
   "display_name": "Python [conda root]",
   "language": "python",
   "name": "conda-root-py"
  },
  "language_info": {
   "codemirror_mode": {
    "name": "ipython",
    "version": 2
   },
   "file_extension": ".py",
   "mimetype": "text/x-python",
   "name": "python",
   "nbconvert_exporter": "python",
   "pygments_lexer": "ipython2",
   "version": "2.7.12"
  }
 },
 "nbformat": 4,
 "nbformat_minor": 1
}
