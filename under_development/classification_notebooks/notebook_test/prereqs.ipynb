{
 "cells": [
  {
   "cell_type": "markdown",
   "metadata": {},
   "source": [
    "# Machine Learning: Algorithms and Applications "
   ]
  },
  {
   "cell_type": "markdown",
   "metadata": {},
   "source": [
    "##  Week 1: Mathematical prerequisites and review"
   ]
  },
  {
   "cell_type": "markdown",
   "metadata": {},
   "source": [
    "While we won't be drowning in equations in this class, there will come a point in our discussion of each course topic where we must use turn to the language of mathematics in order sufficiently flush out each idea and develop appropriate machine learning algorithms. Thankfully in order to do this we'll only need basic concepts from linear algebra and calculus in order to succeed. If you haven't seen vectors, matrices, or derivatives for a while - don't sweat it. In this section we review the requisite concepts - fundamentally there are only two: how do you add matrices? and how do you take derivatives?"
   ]
  },
  {
   "cell_type": "markdown",
   "metadata": {},
   "source": [
    "# 1.   Vector and matrix algebra\n",
    "We all need to feel comfortable:\n",
    "\n",
    "* adding vectors and adding matrices\n",
    "\n",
    "* multipling vectors (both inner and outer products)\n",
    "\n",
    "* multiplying matrices, taking transposes, etc.,\n",
    "\n"
   ]
  },
  {
   "cell_type": "markdown",
   "metadata": {},
   "source": [
    "##  2.  Linear algebra (or linear systems of equations)\n",
    "blah blah"
   ]
  },
  {
   "cell_type": "markdown",
   "metadata": {},
   "source": [
    "# 3.  Scalar and vector derivatives\n",
    "blah blah"
   ]
  },
  {
   "cell_type": "code",
   "execution_count": null,
   "metadata": {
    "collapsed": true
   },
   "outputs": [],
   "source": []
  }
 ],
 "metadata": {
  "kernelspec": {
   "display_name": "Python 2",
   "language": "python",
   "name": "python2"
  },
  "language_info": {
   "codemirror_mode": {
    "name": "ipython",
    "version": 2
   },
   "file_extension": ".py",
   "mimetype": "text/x-python",
   "name": "python",
   "nbconvert_exporter": "python",
   "pygments_lexer": "ipython2",
   "version": "2.7.11rc1"
  }
 },
 "nbformat": 4,
 "nbformat_minor": 0
}
