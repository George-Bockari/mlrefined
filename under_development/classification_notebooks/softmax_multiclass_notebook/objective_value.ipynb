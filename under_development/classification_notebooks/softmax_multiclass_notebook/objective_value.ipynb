{
 "cells": [
  {
   "cell_type": "markdown",
   "metadata": {},
   "source": [
    "\\begin{equation}\n",
    "g(\\tilde{\\mathbf{w}}_{1},...,\\tilde{\\mathbf{w}}_{C})=-\\sum\\limits_{p=1}^{P}\n",
    "\\mbox{log}\\frac{e^{\\tilde{\\mathbf{x}}_{p}^{T}\\tilde{\\mathbf{w}}_{c_{p}}}}{\\sum\\limits_{j=1}^{C}e^{\\tilde{\\mathbf{x}}_{p}^{T}\\tilde{\\mathbf{w}}_{j}}}\n",
    "\\end{equation}\n",
    "\n",
    "A small function for calculating the objective value of the function at a given input.\n",
    "\n",
    "Note: here I'm using a more numerically stable version of the softmax cost, given as \n",
    "    \n",
    "\\begin{equation}\n",
    " g\\left(\\tilde{\\mathbf{w}}_{1},...,\\tilde{\\mathbf{w}}_{C}\\right)=\\underset{p=1}{\\overset{P}{\\sum}}\\mbox{log}\\left(\\underset{j=1}{\\overset{C}{\\sum}}e^{\\tilde{\\mathbf{x}}_{p}^{T}\\left(\\tilde{\\mathbf{w}}_{j}-\\tilde{\\mathbf{w}}_{c_{p}}\\right)}\\right)\n",
    "\\end{equation}\n",
    "\n",
    "where $c_{p}$ is the label index of the $p^{th}$ point."
   ]
  },
  {
   "cell_type": "code",
   "execution_count": 3,
   "metadata": {
    "collapsed": true
   },
   "outputs": [],
   "source": [
    "# calculate the objective value of the softmax multiclass cost for a given input weight W=[w_1,...,w_C]\n",
    "def calculate_obj(X,y,W):\n",
    "    # define limits\n",
    "    P = len(y)\n",
    "    C = len(np.unique(y))\n",
    "    \n",
    "    # loop for cost function\n",
    "    cost = 0\n",
    "    for p in range(0,P):\n",
    "        p_c = int(y[p])-1\n",
    "        temp = 0\n",
    "        \n",
    "        # produce innner sum\n",
    "        for j in range(0,C):\n",
    "            temp += np.exp(np.dot(X[:,p].T,(W[:,j] - W[:,p_c])))\n",
    "\n",
    "        # update outer sum \n",
    "        cost+=np.log(temp)\n",
    "    return cost"
   ]
  },
  {
   "cell_type": "markdown",
   "metadata": {},
   "source": []
  }
 ],
 "metadata": {
  "kernelspec": {
   "display_name": "Python 2",
   "language": "python",
   "name": "python2"
  },
  "language_info": {
   "codemirror_mode": {
    "name": "ipython",
    "version": 2
   },
   "file_extension": ".py",
   "mimetype": "text/x-python",
   "name": "python",
   "nbconvert_exporter": "python",
   "pygments_lexer": "ipython2",
   "version": "2.7.11rc1"
  }
 },
 "nbformat": 4,
 "nbformat_minor": 0
}
