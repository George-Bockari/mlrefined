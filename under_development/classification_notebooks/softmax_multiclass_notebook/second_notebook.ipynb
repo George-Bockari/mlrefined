{
 "cells": [
  {
   "cell_type": "markdown",
   "metadata": {},
   "source": [
    "This method samples imgs"
   ]
  },
  {
   "cell_type": "code",
   "execution_count": 3,
   "metadata": {
    "collapsed": false
   },
   "outputs": [],
   "source": [
    "import numpy as np\n",
    "from random import *\n",
    "from math import *\n",
    "import os\n",
    "from os import listdir\n",
    "from os.path import isfile, join\n",
    "import skimage\n",
    "from skimage import io\n",
    "from skimage import transform\n",
    "import csv\n",
    "from skimage.filters import gabor_kernel\n",
    "from scipy import ndimage as ndi\n",
    "import matplotlib.pyplot as plt\n",
    "from skimage.feature import hog"
   ]
  },
  {
   "cell_type": "code",
   "execution_count": 1,
   "metadata": {
    "collapsed": true
   },
   "outputs": [],
   "source": [
    "# randomly sample patches from input images at multiple scales\n",
    "def sample_non_target_images(imgext,total_num_patches):\n",
    "    ## load in file names for images to sample from\n",
    "\n",
    "    # define input/output paths and grab filenames of imgs\n",
    "    mypath = os.getcwd()\n",
    "    imgpath = mypath + imgext\n",
    "    filenames = load_names(imgpath)\n",
    "\n",
    "    # define scales on which to sample images\n",
    "    orig_base_swindow = 28    # dimension of base (square) patch\n",
    "    scales = [4,6,8]\n",
    "\n",
    "    # define number of samples to take from each image/scale\n",
    "    num = int(ceil(float(total_num_patches)/float(len(scales)*len(filenames))))\n",
    "\n",
    "    # loop over files and extract random patches\n",
    "    for i in range(0,len(filenames)):\n",
    "        # load in image, convert to grayscale\n",
    "        filename = os.path.join(imgpath + '/',filenames[i])\n",
    "        jpgfile = skimage.io.imread(filename)\n",
    "        jpgfile_gray = skimage.color.rgb2gray(jpgfile)\n",
    "\n",
    "        # plot image with rectangles just for kicks\n",
    "        jpgfile_gray_copy = np.zeros((jpgfile.shape))\n",
    "        jpgfile_gray_copy = np.zeros((jpgfile.shape))\n",
    "\n",
    "        # sweep over scales and extract num of patches\n",
    "        for j in range(0,len(scales)):\n",
    "            base_window = int(ceil(orig_base_window*scales[j]))\n",
    "            for k in range(0,num):\n",
    "                # grab random patch of scale base_window x base_window\n",
    "                xdim,ydim = jpgfile_gray.shape\n",
    "                lx  = randint(0,xdim-base_window-1)\n",
    "                ly  = randint(0,ydim-base_window-1)\n",
    "                new_patch = jpgfile_gray[lx:lx+base_window,ly:ly+base_window]\n",
    "\n",
    "                # rescale back to orig_base_window x orig_base_window\n",
    "                new_patch = skimage.transform.resize(new_patch,[orig_base_window,orig_base_window])\n",
    "\n",
    "                # save img patch in patch directory\n",
    "                patch_name = '_scale_' + str(scales[j]) + '_num_' + str(k+1) + '_img_' + filenames[i]\n",
    "                skimage.io.imsave(patchpath+patch_name,new_patch)\n",
    "\n",
    "                ## show square where patch was extracted for visualization\n",
    "        #         rectangle = plt.Rectangle((ly,lx), base_window, base_window, ec='m',fc = 'None',lw = 2.5)\n",
    "        #         plt.gca().add_patch(rectangle)\n",
    "        # plt.imshow(jpgfile_gray,cmap = 'gist_yarg')\n",
    "        # plt.show()"
   ]
  },
  {
   "cell_type": "markdown",
   "metadata": {},
   "source": [
    "Run it"
   ]
  },
  {
   "cell_type": "code",
   "execution_count": null,
   "metadata": {
    "collapsed": true
   },
   "outputs": [],
   "source": []
  }
 ],
 "metadata": {
  "kernelspec": {
   "display_name": "Python 2",
   "language": "python",
   "name": "python2"
  },
  "language_info": {
   "codemirror_mode": {
    "name": "ipython",
    "version": 2
   },
   "file_extension": ".py",
   "mimetype": "text/x-python",
   "name": "python",
   "nbconvert_exporter": "python",
   "pygments_lexer": "ipython2",
   "version": "2.7.11rc1"
  }
 },
 "nbformat": 4,
 "nbformat_minor": 0
}
