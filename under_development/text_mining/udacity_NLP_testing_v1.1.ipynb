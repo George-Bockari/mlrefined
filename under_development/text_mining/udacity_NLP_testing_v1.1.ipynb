{
 "cells": [
  {
   "cell_type": "markdown",
   "metadata": {},
   "source": [
    "## Using basic Bag of Words features for text mining applications\n",
    "\n",
    "This notebook is based on the excellent Kaggle tutorial [Bag of Words Meets Bags of Popcorn](https://www.kaggle.com/c/word2vec-nlp-tutorial/details/part-1-for-beginners-bag-of-words), which details how to use various Python libraries to preprocess text data for NLP tasks like sentiment analysis, document clustering, and the like.  \n",
    "\n",
    "This preprocessing includes:\n",
    "- removing all html all tags from each document\n",
    "- parsing the text of each document (separating it out into individual words)\n",
    "- removing stop words (words of little meaning like 'and' and 'the')\n",
    "- stemming (combining words of similar meaning like 'dogs' and 'dog')\n",
    "- making a word-frequency representations (a.k.a. a Bag of Words feature vector) of a document preprocessed in the manner above\n",
    "\n",
    "[Click here to view a presentation that graphically illustrates these text preprocessing and transformation steps.](https://drive.google.com/file/d/0B9LZEwqBZcp4RHZ6aW05NmRMMGc/view?usp=sharing)\n",
    "\n",
    "This notebook also employs the exemplary dataset used in the tutorial - one consisting of movie reviews - labeled as either 'positive' (meaning the person enjoyed the film) or 'negative'.  These reviews are in raw html form (hence the need for tag-stripping etc.,).  \n",
    "\n",
    "Once all documents are pre-processed (once each movie review is transformed into a Bag of Words feature vector) we can then train a supervised learning model to distinguish between positive and negative reviews.  "
   ]
  },
  {
   "cell_type": "code",
   "execution_count": 1,
   "metadata": {
    "collapsed": false
   },
   "outputs": [
    {
     "name": "stdout",
     "output_type": "stream",
     "text": [
      "[nltk_data] Downloading package stopwords to\n",
      "[nltk_data]     /Users/Nurgetson/nltk_data...\n",
      "[nltk_data]   Package stopwords is already up-to-date!\n"
     ]
    }
   ],
   "source": [
    "# basic libraries\n",
    "import matplotlib.pyplot as plt\n",
    "import numpy as np\n",
    "import pandas as pd\n",
    "\n",
    "# a nice scikit built in pickling library for saving models\n",
    "from sklearn.externals import joblib\n",
    "\n",
    "# library for extracting text from HTML files\n",
    "from bs4 import BeautifulSoup   \n",
    "\n",
    "# library for stemming, removing stopwords, etc.,\n",
    "import nltk\n",
    "nltk.download(\"stopwords\")   # once this download is performed once you need not run it again\n",
    "from nltk.corpus import stopwords # Import the stop word list\n",
    "from nltk.stem.porter import *\n",
    "stemmer = PorterStemmer()\n",
    "\n",
    "# import regular expressions for tokenization\n",
    "import re\n",
    "\n",
    "# import scikit learn BoW transformer + classifier\n",
    "from sklearn.feature_extraction.text import CountVectorizer\n",
    "from sklearn.ensemble import GradientBoostingClassifier"
   ]
  },
  {
   "cell_type": "markdown",
   "metadata": {},
   "source": [
    "## Loading up and visualizing raw text data\n",
    "\n",
    "A simple data-loading function comes first - the data here is a raw text document in html format."
   ]
  },
  {
   "cell_type": "code",
   "execution_count": 2,
   "metadata": {
    "collapsed": true
   },
   "outputs": [],
   "source": [
    "# import training data \n",
    "def load_data(csvname):\n",
    "    # load in dataframe\n",
    "    all_data = pd.read_csv(csvname)\n",
    "\n",
    "    # grab training data and labels\n",
    "    data = all_data['review']        \n",
    "    labels = np.asarray(all_data['sentiment'])\n",
    "\n",
    "    return data,labels"
   ]
  },
  {
   "cell_type": "code",
   "execution_count": 3,
   "metadata": {
    "collapsed": false
   },
   "outputs": [],
   "source": [
    "# load in training data\n",
    "csvname = \"training_data.tsv\"\n",
    "training_data,training_labels = load_data(csvname)\n",
    "\n",
    "# load in testing data\n",
    "csvname = \"testing_data.tsv\"\n",
    "testing_data,testing_labels = load_data(csvname)"
   ]
  },
  {
   "cell_type": "markdown",
   "metadata": {},
   "source": [
    "Lets take a quick look at the raw data - notice the many html tags that need removing"
   ]
  },
  {
   "cell_type": "code",
   "execution_count": 4,
   "metadata": {
    "collapsed": false
   },
   "outputs": [
    {
     "data": {
      "text/plain": [
       "'\"With all this stuff going down at the moment with MJ i\\'ve started listening to his music, watching the odd documentary here and there, watched The Wiz and watched Moonwalker again. Maybe i just want to get a certain insight into this guy who i thought was really cool in the eighties just to maybe make up my mind whether he is guilty or innocent. Moonwalker is part biography, part feature film which i remember going to see at the cinema when it was originally released. Some of it has subtle messages about MJ\\'s feeling towards the press and also the obvious message of drugs are bad m\\'kay.<br /><br />Visually impressive but of course this is all about Michael Jackson so unless you remotely like MJ in anyway then you are going to hate this and find it boring. Some may call MJ an egotist for consenting to the making of this movie BUT MJ and most of his fans would say that he made it for the fans which if true is really nice of him.<br /><br />The actual feature film bit when it finally starts is only on for 20 minutes or so excluding the Smooth Criminal sequence and Joe Pesci is convincing as a psychopathic all powerful drug lord. Why he wants MJ dead so bad is beyond me. Because MJ overheard his plans? Nah, Joe Pesci\\'s character ranted that he wanted people to know it is he who is supplying drugs etc so i dunno, maybe he just hates MJ\\'s music.<br /><br />Lots of cool things in this like MJ turning into a car and a robot and the whole Speed Demon sequence. Also, the director must have had the patience of a saint when it came to filming the kiddy Bad sequence as usually directors hate working with one kid let alone a whole bunch of them performing a complex dance scene.<br /><br />Bottom line, this movie is for people who like MJ on one level or another (which i think is most people). If not, then stay away. It does try and give off a wholesome message and ironically MJ\\'s bestest buddy in this movie is a girl! Michael Jackson is truly one of the most talented people ever to grace this planet but is he guilty? Well, with all the attention i\\'ve gave this subject....hmmm well i don\\'t know because people can be different behind closed doors, i know this for a fact. He is either an extremely nice but stupid guy or one of the most sickest liars. I hope he is not the latter.\"'"
      ]
     },
     "execution_count": 4,
     "metadata": {},
     "output_type": "execute_result"
    }
   ],
   "source": [
    "# show a raw document from the training set - those from the testing set look the same\n",
    "training_data[0]"
   ]
  },
  {
   "cell_type": "markdown",
   "metadata": {},
   "source": [
    "## Basic cleaning of text data\n",
    "\n",
    "Next we clean both the training and testing datasets - this means we\n",
    "\n",
    "- removing all html all tags from each document\n",
    "- parsing the text of each document (separating it out into individual words)\n",
    "- removing stop words (words of little meaning like 'and' and 'the'), punctuation, numbers\n",
    "- stemming (combining words of similar meaning like 'dogs' and 'dog')\n",
    "\n",
    "[Click here for a short presentation illustratring these steps graphically.](https://drive.google.com/file/d/0B9LZEwqBZcp4RHZ6aW05NmRMMGc/view?usp=sharing)\n",
    "\n",
    "These are precisely the actions taken in the next Python cell."
   ]
  },
  {
   "cell_type": "code",
   "execution_count": 5,
   "metadata": {
    "collapsed": true
   },
   "outputs": [],
   "source": [
    "# remove a single document from HTML page, parse, remove stop words, and stem\n",
    "def review_to_words(raw_review):\n",
    "    # Function to convert a raw review to a string of words\n",
    "    # The input is a single string (a raw movie review), and \n",
    "    # the output is a single string (a preprocessed movie review)\n",
    "\n",
    "    # Remove HTML tags (if present)\n",
    "    review_text = BeautifulSoup(raw_review).get_text() \n",
    "\n",
    "    # Remove non-letters        \n",
    "    letters_only = re.sub(\"[^a-zA-Z]\", \" \", review_text) \n",
    "\n",
    "    # Convert to lower case, split into individual words\n",
    "    words = letters_only.lower().split()                             \n",
    "\n",
    "    # In Python, searching a set is much faster than searching\n",
    "    #   a list, so convert the stop words to a set\n",
    "    stops = set(stopwords.words(\"english\"))                  \n",
    "\n",
    "    # Remove stop words \n",
    "    meaningful_words = [w for w in words if not w in stops]   \n",
    "\n",
    "    # Stem the word list - no built in functionality in scikit, although you can directly import the nlkt stemmer\n",
    "    stemmed_words = [stemmer.stem(word) for word in meaningful_words]\n",
    "\n",
    "    # Join the words back into one string separated by space, \n",
    "    # and return the result.\n",
    "    return( \" \".join( stemmed_words )) \n",
    "\n",
    "# clean training dataset\n",
    "def clean_data(dataset):\n",
    "    # Get the number of reviews based on the dataframe column size\n",
    "    num_reviews = dataset.size\n",
    "\n",
    "    # Initialize an empty list to hold the clean reviews\n",
    "    cleaned_reviews = []\n",
    "\n",
    "    # Loop over each review; create an index i that goes from 0 to the length\n",
    "    # of the movie review list \n",
    "    for i in xrange( 0,num_reviews):\n",
    "        # Call our function for each one, and add the result to the list of\n",
    "        # clean reviews\n",
    "        cleaned_reviews.append(review_to_words(dataset[i]))\n",
    "\n",
    "    # print update\n",
    "    return cleaned_reviews"
   ]
  },
  {
   "cell_type": "code",
   "execution_count": 7,
   "metadata": {
    "collapsed": false
   },
   "outputs": [
    {
     "name": "stderr",
     "output_type": "stream",
     "text": [
      "/Users/Nurgetson/anaconda2/lib/python2.7/site-packages/bs4/__init__.py:181: UserWarning: No parser was explicitly specified, so I'm using the best available HTML parser for this system (\"lxml\"). This usually isn't a problem, but if you run this code on another system, or in a different virtual environment, it may use a different parser and behave differently.\n",
      "\n",
      "The code that caused this warning is on line 174 of the file /Users/Nurgetson/anaconda2/lib/python2.7/runpy.py. To get rid of this warning, change code that looks like this:\n",
      "\n",
      " BeautifulSoup([your markup])\n",
      "\n",
      "to this:\n",
      "\n",
      " BeautifulSoup([your markup], \"lxml\")\n",
      "\n",
      "  markup_type=markup_type))\n"
     ]
    }
   ],
   "source": [
    "# clean training data \n",
    "clean_training_data = clean_data(training_data)\n",
    "\n",
    "# clean testing data\n",
    "clean_testing_data = clean_data(testing_data)"
   ]
  },
  {
   "cell_type": "markdown",
   "metadata": {},
   "source": [
    "## Converting cleaned text data to Bag of Words feature vectors\n",
    "\n",
    "Now that each dataset has been cleaned we can transform the documents from each into Bag of Words features.  Note: we need to create this transformation based on the **training data** alone, as the dictionary (the set of words shared by documents in the training set) used here will be the one on which we train our supervised learning algorithm.  \n",
    "\n",
    "Hence any future testing data must be transformed in the same way for us to be able to apply the learned training algorithm.\n",
    "\n",
    "The output of calling the function below will output precisely this Bag of Words transformation."
   ]
  },
  {
   "cell_type": "code",
   "execution_count": 8,
   "metadata": {
    "collapsed": true
   },
   "outputs": [],
   "source": [
    "## convert cleaned, stopword removed, stemmed dataset to BoW features\n",
    "def make_BoW_transform(train_dataset):\n",
    "    # Initialize the \"CountVectorizer\" object, which is scikit-learn's\n",
    "    # bag of words tool.  Keep only top 5000 most commonly occuring words\n",
    "    BoW_transform = CountVectorizer(analyzer = \"word\",   \\\n",
    "                                 tokenizer = None,    \\\n",
    "                                 preprocessor = None, \\\n",
    "                                 stop_words = None,   \\\n",
    "                                 max_features = 5000) \n",
    "\n",
    "    ## Take BoW features from training data - creating a dictionary of words that will also be used on the testing data\n",
    "    BoW_transform.fit(train_dataset)\n",
    "\n",
    "    ## save our BoW transform (fit to the training data) so we can use it later to transform future data\n",
    "    joblib.dump(BoW_transform, 'BoW_transform.pkl') \n",
    "\n",
    "    # to load from file use below\n",
    "    ## BoW_transform = joblib.load('BoW_transform.pkl') # load the BoW transform from file\n",
    "\n",
    "    # Take a look at the words in the vocabulary\n",
    "    # vocab = vectorizer.get_feature_names()\n",
    "\n",
    "    return BoW_transform"
   ]
  },
  {
   "cell_type": "code",
   "execution_count": 9,
   "metadata": {
    "collapsed": true
   },
   "outputs": [],
   "source": [
    "# fit a BoW transform to the cleaned documents\n",
    "BoW_transform = make_BoW_transform(clean_training_data)"
   ]
  },
  {
   "cell_type": "markdown",
   "metadata": {
    "collapsed": false
   },
   "source": [
    "With the proper Bag of Words transformation in hand, we transform the (pre-cleaned) training and testing datasets."
   ]
  },
  {
   "cell_type": "code",
   "execution_count": 10,
   "metadata": {
    "collapsed": false
   },
   "outputs": [],
   "source": [
    "# Use the newly formed BoW transformation to transform both training and testing sets\n",
    "training_BoW_features = BoW_transform.transform(clean_training_data)\n",
    "training_BoW_features = training_BoW_features.toarray()\n",
    "\n",
    "testing_BoW_features = BoW_transform.transform(clean_testing_data)\n",
    "testing_BoW_features = testing_BoW_features.toarray()"
   ]
  },
  {
   "cell_type": "markdown",
   "metadata": {},
   "source": [
    "Notice that the BoW feature vector has an entry to represent the (normalized) number of each of the words found in the training set documents.  Even after we keep only the 5000 most commonly occuring words, each vector still contains only a fraction of the words found in the joint training set.  This means that BoW feature vectors are quite sparse (most entries are zero).  They are also highly discontinous."
   ]
  },
  {
   "cell_type": "code",
   "execution_count": 16,
   "metadata": {
    "collapsed": false
   },
   "outputs": [
    {
     "data": {
      "text/plain": [
       "[<matplotlib.lines.Line2D at 0x11d8e4a50>]"
      ]
     },
     "execution_count": 16,
     "metadata": {},
     "output_type": "execute_result"
    },
    {
     "data": {
      "image/png": "[encoded data removed]",
      "text/plain": [
       "<matplotlib.figure.Figure at 0x11d90e750>"
      ]
     },
     "metadata": {},
     "output_type": "display_data"
    }
   ],
   "source": [
    "# plot a single (unnormalized) BoW feature vector from the training set - displaying values for only the top 5000 most commonly occuring words in the training set\n",
    "%matplotlib inline\n",
    "plt.plot(training_BoW_features[0,:])"
   ]
  },
  {
   "cell_type": "code",
   "execution_count": 23,
   "metadata": {
    "collapsed": false
   },
   "outputs": [],
   "source": [
    "# normalize BoW data\n",
    "import sklearn\n",
    "training_BoW_features = sklearn.preprocessing.normalize(training_BoW_features,axis = 1)\n",
    "testing_BoW_features = sklearn.preprocessing.normalize(testing_BoW_features,axis = 1)"
   ]
  },
  {
   "cell_type": "markdown",
   "metadata": {},
   "source": [
    "##  Classification of BoW text data\n",
    "\n",
    "Now that the data has all been properly transformed, we can feed it into a nonlinear classifier like e.g., a tree-based algorithm.  These algorithms often work quite well on Bag of Words - their highly discontous and sparse nature is nicely matched by the structure of trees."
   ]
  },
  {
   "cell_type": "code",
   "execution_count": 11,
   "metadata": {
    "collapsed": true
   },
   "outputs": [],
   "source": [
    "# perform classification on training set\n",
    "def perform_classification(X_train,y_train,X_test,y_test):        \n",
    "    # load in classifier\n",
    "    clf = GradientBoostingClassifier(n_estimators=100, learning_rate=1.0, max_depth=1, random_state=0)\n",
    "\n",
    "    # fit classifier to training data\n",
    "    clf.fit(X_train, y_train)\n",
    "\n",
    "    # save model\n",
    "    joblib.dump(clf, 'learned_booster.pkl') \n",
    "\n",
    "    # print scores on training and testing sets\n",
    "    train_accuracy = clf.score(X_train, y_train)\n",
    "    test_accuracy = clf.score(X_test, y_test)\n",
    "\n",
    "    print 'done training boosted classifier'\n",
    "    print 'accuracy on training set is ' + str(train_accuracy)  \n",
    "    print 'accuracy on testing set is ' + str(test_accuracy)  "
   ]
  },
  {
   "cell_type": "code",
   "execution_count": 24,
   "metadata": {
    "collapsed": false,
    "scrolled": true
   },
   "outputs": [
    {
     "name": "stdout",
     "output_type": "stream",
     "text": [
      "done training boosted classifier\n",
      "accuracy on training set is 0.847\n",
      "accuracy on testing set is 0.8234\n"
     ]
    }
   ],
   "source": [
    "# perform classification on training set, report accuracy on training and testing sets\n",
    "perform_classification(training_BoW_features,training_labels,testing_BoW_features,testing_labels)"
   ]
  }
 ],
 "metadata": {
  "anaconda-cloud": {},
  "kernelspec": {
   "display_name": "Python [default]",
   "language": "python",
   "name": "python2"
  },
  "language_info": {
   "codemirror_mode": {
    "name": "ipython",
    "version": 2
   },
   "file_extension": ".py",
   "mimetype": "text/x-python",
   "name": "python",
   "nbconvert_exporter": "python",
   "pygments_lexer": "ipython2",
   "version": "2.7.12"
  }
 },
 "nbformat": 4,
 "nbformat_minor": 0
}
