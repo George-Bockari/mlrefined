{
 "cells": [
  {
   "cell_type": "markdown",
   "metadata": {
    "nbpresent": {
     "id": "455d9b79-0cf5-467b-a6b1-01b3d8fd246e"
    },
    "slideshow": {
     "slide_type": "slide"
    }
   },
   "source": [
    "  \n",
    "\n",
    "  <span style=\"color: black; font-family: Babas; font-size: 2em;\">Reinforcement Learning Series</span>\n",
    "  \n",
    "  <span style=\"color: black; font-family: Garamond; font-size: 1.3em;\">Chi-Town Machine Learning Meetup</span>\n",
    "  \n",
    "  \n",
    "  <p><img src= \"demo_images/RL_images/maze.gif\",style=border:0px;margin:0px;float:left;width:400px;> \n",
    "  </p>\n",
    "  <p> <br></p>\n",
    "\n",
    "<p>\n",
    "<img src= \"demo_images/RL_images/looping_pacman.gif\",style=border:0px;margin:0px;float:left;width:400px;> \n",
    "  </p>\n",
    "\n",
    "\n",
    "<p> <br><br><br><br><br></p>\n",
    "\n",
    "<p>\n",
    "  <img src=\"demo_images/RL_images/lunar_lander.gif\",style=border:0px;margin:30px;float:left;width:400px;> \n",
    "    </p>\n",
    "\n",
    "<p>  \n",
    " <img src=\"demo_images/RL_images/chess.gif\",style=border:0px;margin:20px;float:left;width:300px;> \n",
    "  </p>\n",
    "\n",
    "\n"
   ]
  },
  {
   "cell_type": "markdown",
   "metadata": {
    "slideshow": {
     "slide_type": "slide"
    }
   },
   "source": [
    "## What this Series is all about"
   ]
  },
  {
   "cell_type": "markdown",
   "metadata": {
    "slideshow": {
     "slide_type": "fragment"
    }
   },
   "source": [
    "- Learning RL is tough!"
   ]
  },
  {
   "cell_type": "markdown",
   "metadata": {
    "slideshow": {
     "slide_type": "fragment"
    }
   },
   "source": [
    "-  Requires use of advanced ideas from machine learning \n",
    "    - e.g., mathematical optimization, deep  networks"
   ]
  },
  {
   "cell_type": "markdown",
   "metadata": {
    "slideshow": {
     "slide_type": "fragment"
    }
   },
   "source": [
    "- Series of talks introduces RL by pulling apart entire process"
   ]
  },
  {
   "cell_type": "markdown",
   "metadata": {
    "slideshow": {
     "slide_type": "fragment"
    }
   },
   "source": [
    "- We will develop important intuition about the strengths and limitations of Reinforcement paradigm."
   ]
  },
  {
   "cell_type": "markdown",
   "metadata": {
    "slideshow": {
     "slide_type": "slide"
    }
   },
   "source": [
    "# What this presentation is all about"
   ]
  },
  {
   "cell_type": "markdown",
   "metadata": {
    "slideshow": {
     "slide_type": "subslide"
    }
   },
   "source": [
    "## What this presentation is all about\n",
    "\n"
   ]
  },
  {
   "cell_type": "markdown",
   "metadata": {
    "slideshow": {
     "slide_type": "fragment"
    }
   },
   "source": [
    "- Here we introduce the fundamentals "
   ]
  },
  {
   "cell_type": "markdown",
   "metadata": {
    "slideshow": {
     "slide_type": "fragment"
    }
   },
   "source": [
    "- In particular: the Q-Learning algorithm"
   ]
  },
  {
   "cell_type": "markdown",
   "metadata": {
    "slideshow": {
     "slide_type": "fragment"
    }
   },
   "source": [
    "- Future talks cover more advanced concepts \n",
    "\n",
    "    e.g., how to integrate in deep networks"
   ]
  },
  {
   "cell_type": "markdown",
   "metadata": {
    "slideshow": {
     "slide_type": "slide"
    }
   },
   "source": [
    "# What is Reinforcement Learning (RL)?"
   ]
  },
  {
   "cell_type": "markdown",
   "metadata": {
    "slideshow": {
     "slide_type": "fragment"
    }
   },
   "source": [
    "- A general framework for building computational agents which can, if trained properly, act intelligently in a well-defined but dynamic environment."
   ]
  },
  {
   "cell_type": "markdown",
   "metadata": {
    "slideshow": {
     "slide_type": "fragment"
    }
   },
   "source": [
    "-  Three main application areas in which RL is commonly used: robotics, automatic control, and game AI."
   ]
  },
  {
   "cell_type": "markdown",
   "metadata": {
    "slideshow": {
     "slide_type": "slide"
    }
   },
   "source": [
    "# Common applications of Reinforcement?  "
   ]
  },
  {
   "cell_type": "markdown",
   "metadata": {
    "nbpresent": {
     "id": "927e80af-f6b8-431f-b01b-5d174308a3f4"
    },
    "slideshow": {
     "slide_type": "subslide"
    }
   },
   "source": [
    "## Example: Robotics (e.g., shortest path) - Gridworld\n",
    "\n",
    "<p>\n",
    "<img src=\"demo_images/RL_images/maze.gif\",width=600,height=600></p>"
   ]
  },
  {
   "cell_type": "markdown",
   "metadata": {
    "nbpresent": {
     "id": "33a9e261-c05f-4c8a-b7fa-c0b02db77a1e"
    },
    "slideshow": {
     "slide_type": "subslide"
    }
   },
   "source": [
    "## Example: Robotics (e.g., shortest path) - Gridworld\n",
    "\n",
    "<p>\n",
    "<img src=\"demo_images/RL_images/moat.gif\",width=600,height=600></p>"
   ]
  },
  {
   "cell_type": "markdown",
   "metadata": {
    "nbpresent": {
     "id": "5e7d6182-de8c-46d1-97e0-96b7a32a7acc"
    },
    "slideshow": {
     "slide_type": "subslide"
    }
   },
   "source": [
    "## Example: Robotics (e.g., shortest path - Gridworld\n",
    "\n",
    "<p>\n",
    "<img src=\"demo_images/RL_images/random.gif\",width=600,height=600></p>"
   ]
  },
  {
   "cell_type": "markdown",
   "metadata": {
    "nbpresent": {
     "id": "3c5a038b-0bf8-441c-b717-003ea370821c"
    },
    "slideshow": {
     "slide_type": "subslide"
    }
   },
   "source": [
    "##  Example:  Game playing agents\n",
    "\n",
    "<p>\n",
    "<img src=\"demo_images/RL_images/chess.gif\",width=500,height=500></p>"
   ]
  },
  {
   "cell_type": "markdown",
   "metadata": {
    "slideshow": {
     "slide_type": "subslide"
    }
   },
   "source": [
    "##  Example:  Game playing agents\n",
    "\n",
    "<p>\n",
    "<img src=\"demo_images/RL_images/looping_pacman.gif\",width=600,height=600></p>"
   ]
  },
  {
   "cell_type": "markdown",
   "metadata": {
    "nbpresent": {
     "id": "a406c3d9-9c15-4399-9088-589a1c8a9ed8"
    },
    "slideshow": {
     "slide_type": "subslide"
    }
   },
   "source": [
    "### Example:   Control problems  (e.g., inverted pendulum)\n",
    "\n",
    "<p>\n",
    "<img src=\"demo_images/RL_images/cartpole.gif\",width=700></p>"
   ]
  }
 ],
 "metadata": {
  "anaconda-cloud": {},
  "celltoolbar": "Slideshow",
  "kernelspec": {
   "display_name": "Python [default]",
   "language": "python",
   "name": "python2"
  },
  "language_info": {
   "codemirror_mode": {
    "name": "ipython",
    "version": 2
   },
   "file_extension": ".py",
   "mimetype": "text/x-python",
   "name": "python",
   "nbconvert_exporter": "python",
   "pygments_lexer": "ipython2",
   "version": "2.7.12"
  },
  "nbpresent": {
   "slides": {
    "103e09af-0663-4e64-8399-0c1b3d356dca": {
     "id": "103e09af-0663-4e64-8399-0c1b3d356dca",
     "prev": "19aab01e-507d-4d78-96c5-55c2b2525c01",
     "regions": {
      "be147851-eac8-4f64-bf29-64c54e3b9dce": {
       "attrs": {
        "height": 0.8,
        "width": 0.8,
        "x": 0.1,
        "y": 0.1
       },
       "content": {
        "cell": "33a9e261-c05f-4c8a-b7fa-c0b02db77a1e",
        "part": "whole"
       },
       "id": "be147851-eac8-4f64-bf29-64c54e3b9dce"
      }
     }
    },
    "121d21f0-5059-4196-ab6d-d001b6638e5b": {
     "id": "121d21f0-5059-4196-ab6d-d001b6638e5b",
     "prev": "bab20373-68ec-487b-8996-a9da7e77e157",
     "regions": {
      "a5e05869-1e65-41ba-8b53-51960ac8d442": {
       "attrs": {
        "height": 0.8,
        "width": 0.8,
        "x": 0.1,
        "y": 0.1
       },
       "content": {
        "cell": "574a99b9-b69d-49d2-868e-0b01e166181a",
        "part": "whole"
       },
       "id": "a5e05869-1e65-41ba-8b53-51960ac8d442"
      }
     }
    },
    "175d56f0-9172-4a57-91a4-cf0ef21c6543": {
     "id": "175d56f0-9172-4a57-91a4-cf0ef21c6543",
     "prev": "b6d6c2a9-4564-4889-8042-9644c7b5c5bc",
     "regions": {
      "34d0b44d-d9bd-4556-b285-644e01029937": {
       "attrs": {
        "height": 0.8,
        "width": 0.8,
        "x": 0.1,
        "y": 0.1
       },
       "content": {
        "cell": "80b44f75-5087-43bc-b6fc-7a52100f1949",
        "part": "whole"
       },
       "id": "34d0b44d-d9bd-4556-b285-644e01029937"
      }
     }
    },
    "17f76fc1-6351-4f23-b4fc-cda7cbc9dd01": {
     "id": "17f76fc1-6351-4f23-b4fc-cda7cbc9dd01",
     "prev": "c3a0d00b-f56b-48b7-bdc8-5d6fff30c19b",
     "regions": {
      "4aa4c7f4-4534-4df4-8f85-946ab1cfb2c0": {
       "attrs": {
        "height": 0.8,
        "width": 0.8,
        "x": 0.1,
        "y": 0.1
       },
       "content": {
        "cell": "155a267a-4cd5-458a-b663-c39f8cf452c5",
        "part": "whole"
       },
       "id": "4aa4c7f4-4534-4df4-8f85-946ab1cfb2c0"
      }
     }
    },
    "180769c9-41d4-4081-9d74-e7aa3677ff8f": {
     "id": "180769c9-41d4-4081-9d74-e7aa3677ff8f",
     "prev": "103e09af-0663-4e64-8399-0c1b3d356dca",
     "regions": {
      "8a3b7c61-2e24-40c2-b0ba-0198f87c9389": {
       "attrs": {
        "height": 0.8,
        "width": 0.8,
        "x": 0.1,
        "y": 0.1
       },
       "content": {
        "cell": "5e7d6182-de8c-46d1-97e0-96b7a32a7acc",
        "part": "whole"
       },
       "id": "8a3b7c61-2e24-40c2-b0ba-0198f87c9389"
      }
     }
    },
    "19aab01e-507d-4d78-96c5-55c2b2525c01": {
     "id": "19aab01e-507d-4d78-96c5-55c2b2525c01",
     "prev": "36a06564-6b02-4b17-aa69-50b633821bdc",
     "regions": {
      "54d8ed34-82d6-4ece-9271-eff7f882cf9c": {
       "attrs": {
        "height": 0.8,
        "width": 0.8,
        "x": 0.1,
        "y": 0.1
       },
       "content": {
        "cell": "927e80af-f6b8-431f-b01b-5d174308a3f4",
        "part": "whole"
       },
       "id": "54d8ed34-82d6-4ece-9271-eff7f882cf9c"
      }
     }
    },
    "22a68a2b-9663-4c68-828d-c1821c6a3471": {
     "id": "22a68a2b-9663-4c68-828d-c1821c6a3471",
     "prev": "89a23b9f-5ed7-4c16-ba9b-2371715c5fc0",
     "regions": {
      "ca8b7725-225b-46b6-9fc2-7ccd1cc4daea": {
       "attrs": {
        "height": 0.8,
        "width": 0.8,
        "x": 0.1,
        "y": 0.1
       },
       "content": {
        "cell": "0de3084c-51b4-4b28-a228-5fe211c5c423",
        "part": "whole"
       },
       "id": "ca8b7725-225b-46b6-9fc2-7ccd1cc4daea"
      }
     }
    },
    "2474b1e1-1a78-4dfa-85e4-c226e926012a": {
     "id": "2474b1e1-1a78-4dfa-85e4-c226e926012a",
     "prev": "c313db45-2c40-418a-8211-e92d997e640a",
     "regions": {
      "71a6d63f-5b36-46df-a90b-ef4169011662": {
       "attrs": {
        "height": 0.8,
        "width": 0.8,
        "x": 0.1,
        "y": 0.1
       },
       "content": {
        "cell": "d98a2406-78f9-470b-a05a-b2d2d8bfdbb4",
        "part": "whole"
       },
       "id": "71a6d63f-5b36-46df-a90b-ef4169011662"
      }
     }
    },
    "2503811e-c43e-429f-b1ee-373a23fff7bd": {
     "id": "2503811e-c43e-429f-b1ee-373a23fff7bd",
     "prev": "64de807f-f727-49eb-b1bf-656c5035990e",
     "regions": {
      "034cafb3-38cb-4c95-ae0a-2792c5ccb4b2": {
       "attrs": {
        "height": 0.8,
        "width": 0.8,
        "x": 0.1,
        "y": 0.1
       },
       "content": {
        "cell": "ccf13294-28a3-4010-b0aa-ef530331b8de",
        "part": "whole"
       },
       "id": "034cafb3-38cb-4c95-ae0a-2792c5ccb4b2"
      }
     }
    },
    "30b37ac1-3996-4850-886e-ce949ffcd63b": {
     "id": "30b37ac1-3996-4850-886e-ce949ffcd63b",
     "prev": "22a68a2b-9663-4c68-828d-c1821c6a3471",
     "regions": {
      "e78a347a-967f-4741-9c53-b1ddfbaa7318": {
       "attrs": {
        "height": 0.8,
        "width": 0.8,
        "x": 0.1,
        "y": 0.1
       },
       "content": {
        "cell": "b9072c13-e0c9-40d4-9352-5c4ee6d6d899",
        "part": "whole"
       },
       "id": "e78a347a-967f-4741-9c53-b1ddfbaa7318"
      }
     }
    },
    "30dc0be7-6bee-4c47-b085-9478e10a3612": {
     "id": "30dc0be7-6bee-4c47-b085-9478e10a3612",
     "prev": "d7e439f7-ba39-40c2-b293-c49ccd578921",
     "regions": {
      "1d13e784-73fa-4b35-91cb-c91e38220355": {
       "attrs": {
        "height": 0.8,
        "width": 0.8,
        "x": 0.1,
        "y": 0.1
       },
       "content": {
        "cell": "58d8c203-d0fa-4b45-93cd-5302fb71903c",
        "part": "whole"
       },
       "id": "1d13e784-73fa-4b35-91cb-c91e38220355"
      }
     }
    },
    "33fa4ab7-c3f9-42ae-a52a-1443a3cc5171": {
     "id": "33fa4ab7-c3f9-42ae-a52a-1443a3cc5171",
     "prev": "180769c9-41d4-4081-9d74-e7aa3677ff8f",
     "regions": {
      "1580bb0a-869f-481a-a8c8-aaecd4337f20": {
       "attrs": {
        "height": 0.8,
        "width": 0.8,
        "x": 0.1,
        "y": 0.1
       },
       "content": {
        "cell": "3c5a038b-0bf8-441c-b717-003ea370821c",
        "part": "whole"
       },
       "id": "1580bb0a-869f-481a-a8c8-aaecd4337f20"
      }
     }
    },
    "36a06564-6b02-4b17-aa69-50b633821bdc": {
     "id": "36a06564-6b02-4b17-aa69-50b633821bdc",
     "prev": "f3d73ea4-5cf9-4d51-9808-dcb7a9f68e4f",
     "regions": {
      "f95d7256-18aa-4c5a-90a7-ad5c7f7eb133": {
       "attrs": {
        "height": 0.8,
        "width": 0.8,
        "x": 0.1,
        "y": 0.1
       },
       "content": {
        "cell": "9ad83361-14c6-47d5-859e-6cb60dc28ee5",
        "part": "whole"
       },
       "id": "f95d7256-18aa-4c5a-90a7-ad5c7f7eb133"
      }
     }
    },
    "37a33dbe-b23e-4381-a7b0-e19609aa3c02": {
     "id": "37a33dbe-b23e-4381-a7b0-e19609aa3c02",
     "prev": "ed7af3f2-9d07-4670-ad36-c7b5a91ab405",
     "regions": {
      "857c183c-c411-48db-af8e-308aad501163": {
       "attrs": {
        "height": 0.8,
        "width": 0.8,
        "x": 0.1,
        "y": 0.1
       },
       "content": {
        "cell": "80b6e088-c022-4941-aea9-d91efbabfc0a",
        "part": "whole"
       },
       "id": "857c183c-c411-48db-af8e-308aad501163"
      }
     }
    },
    "496834fc-f5f8-4528-8fdf-ffada7493069": {
     "id": "496834fc-f5f8-4528-8fdf-ffada7493069",
     "prev": "17f76fc1-6351-4f23-b4fc-cda7cbc9dd01",
     "regions": {
      "35d67abf-b7e8-4255-b1e8-bf679995c973": {
       "attrs": {
        "height": 0.8,
        "width": 0.8,
        "x": 0.1,
        "y": 0.1
       },
       "content": {
        "cell": "208d2d6b-5355-48b1-8ee8-2808be856b52",
        "part": "whole"
       },
       "id": "35d67abf-b7e8-4255-b1e8-bf679995c973"
      }
     }
    },
    "49adca23-00f5-4439-b9e2-2b05d8cd82b9": {
     "id": "49adca23-00f5-4439-b9e2-2b05d8cd82b9",
     "prev": "2474b1e1-1a78-4dfa-85e4-c226e926012a",
     "regions": {
      "021c2c5e-f76d-4172-ada9-5780a305c237": {
       "attrs": {
        "height": 0.8,
        "width": 0.8,
        "x": 0.1,
        "y": 0.1
       },
       "content": {
        "cell": "397f4ea8-fcff-4f69-95b3-df392caed841",
        "part": "whole"
       },
       "id": "021c2c5e-f76d-4172-ada9-5780a305c237"
      }
     }
    },
    "4a80d23f-7c82-4f86-9f04-e347d3d768dd": {
     "id": "4a80d23f-7c82-4f86-9f04-e347d3d768dd",
     "prev": "9a608089-c148-4fb0-8723-be913c1bbcff",
     "regions": {
      "f4b40992-5c94-4c32-9673-a85f8e4350a9": {
       "attrs": {
        "height": 0.8,
        "width": 0.8,
        "x": 0.1,
        "y": 0.1
       },
       "content": {
        "cell": "bf94ec38-70f3-4fdc-9201-afb5acc48a72",
        "part": "whole"
       },
       "id": "f4b40992-5c94-4c32-9673-a85f8e4350a9"
      }
     }
    },
    "56a70e4e-1e1d-4a0c-b8fe-7be0702d64f1": {
     "id": "56a70e4e-1e1d-4a0c-b8fe-7be0702d64f1",
     "layout": "manual",
     "prev": null,
     "regions": {
      "b43e60e5-f5dd-40b0-bde0-7778c61d27d8": {
       "attrs": {
        "height": 0.8333333333333334,
        "pad": 0.01,
        "width": 0.8333333333333335,
        "x": 0.06416400425985085,
        "y": 0.09469293574724885
       },
       "content": {
        "cell": "455d9b79-0cf5-467b-a6b1-01b3d8fd246e",
        "part": "whole"
       },
       "id": "b43e60e5-f5dd-40b0-bde0-7778c61d27d8"
      }
     }
    },
    "5aed3973-5af7-45d7-bbb5-33fd276a60ab": {
     "id": "5aed3973-5af7-45d7-bbb5-33fd276a60ab",
     "prev": "d1b21011-e21a-419b-9ad3-a7144cdb1aee",
     "regions": {
      "7e8008c1-d1d5-4ba3-bdbd-b88736545fd8": {
       "attrs": {
        "height": 0.8,
        "width": 0.8,
        "x": 0.1,
        "y": 0.1
       },
       "content": {
        "cell": "8a941a86-6b59-411b-bbf1-dec883fee3a5",
        "part": "whole"
       },
       "id": "7e8008c1-d1d5-4ba3-bdbd-b88736545fd8"
      }
     }
    },
    "5b06d5bd-a39d-42b4-8b26-15d416ba856b": {
     "id": "5b06d5bd-a39d-42b4-8b26-15d416ba856b",
     "prev": "a6482400-8fe1-49a6-af87-644c7affbbca",
     "regions": {
      "e99e3150-230a-4588-b026-68225e8f1557": {
       "attrs": {
        "height": 0.8,
        "width": 0.8,
        "x": 0.1,
        "y": 0.1
       },
       "content": {
        "cell": "8d396714-1e9a-4a9f-8063-1ad7da279f40",
        "part": "whole"
       },
       "id": "e99e3150-230a-4588-b026-68225e8f1557"
      }
     }
    },
    "64de807f-f727-49eb-b1bf-656c5035990e": {
     "id": "64de807f-f727-49eb-b1bf-656c5035990e",
     "prev": "8e531252-dacb-46b3-b65c-adb229353bfb",
     "regions": {
      "1f5fe189-d8d9-470d-9abb-ef02772cee95": {
       "attrs": {
        "height": 0.8,
        "width": 0.8,
        "x": 0.1,
        "y": 0.1
       },
       "content": {
        "cell": "c24d8d3e-aa9a-4aa7-ae93-c36ada604ac9",
        "part": "whole"
       },
       "id": "1f5fe189-d8d9-470d-9abb-ef02772cee95"
      }
     }
    },
    "803c2834-255f-42c3-9a0c-fc21b0263b72": {
     "id": "803c2834-255f-42c3-9a0c-fc21b0263b72",
     "prev": "121d21f0-5059-4196-ab6d-d001b6638e5b",
     "regions": {
      "9b8b4d07-1ab5-4a02-b27c-c8344543919c": {
       "attrs": {
        "height": 0.8,
        "width": 0.8,
        "x": 0.1,
        "y": 0.1
       },
       "content": {
        "cell": "2e1c1be0-8560-4875-99bf-6b0c26fd1b73",
        "part": "whole"
       },
       "id": "9b8b4d07-1ab5-4a02-b27c-c8344543919c"
      }
     }
    },
    "842c745f-b6ae-4550-860b-859aeb373a20": {
     "id": "842c745f-b6ae-4550-860b-859aeb373a20",
     "prev": "5b06d5bd-a39d-42b4-8b26-15d416ba856b",
     "regions": {
      "5056739f-aef1-40c7-bbde-78fbbd09bbb4": {
       "attrs": {
        "height": 0.8,
        "width": 0.8,
        "x": 0.1,
        "y": 0.1
       },
       "content": {
        "cell": "4ae730c2-5ed4-4f05-b22a-2fa7a3bc2479",
        "part": "whole"
       },
       "id": "5056739f-aef1-40c7-bbde-78fbbd09bbb4"
      }
     }
    },
    "8698651c-b5ca-4a73-a5fb-ec597deb8021": {
     "id": "8698651c-b5ca-4a73-a5fb-ec597deb8021",
     "prev": "8b651f58-724a-48ae-b508-685f1e953950",
     "regions": {
      "6138b768-4c1a-4614-9b4e-f64f7f2c5514": {
       "attrs": {
        "height": 0.8,
        "width": 0.8,
        "x": 0.1,
        "y": 0.1
       },
       "content": {
        "cell": "fee7308b-2b56-4b52-b349-9bce13a524c9",
        "part": "whole"
       },
       "id": "6138b768-4c1a-4614-9b4e-f64f7f2c5514"
      }
     }
    },
    "87e50aad-4575-43c0-8c20-1ef97944f051": {
     "id": "87e50aad-4575-43c0-8c20-1ef97944f051",
     "prev": "49adca23-00f5-4439-b9e2-2b05d8cd82b9",
     "regions": {
      "a499fcbc-2e9f-42e5-b553-27681921c5a2": {
       "attrs": {
        "height": 0.8,
        "width": 0.8,
        "x": 0.1,
        "y": 0.1
       },
       "content": {
        "cell": "6077b959-8b7b-4ec1-9351-92bc51dfdef1",
        "part": "whole"
       },
       "id": "a499fcbc-2e9f-42e5-b553-27681921c5a2"
      }
     }
    },
    "89a23b9f-5ed7-4c16-ba9b-2371715c5fc0": {
     "id": "89a23b9f-5ed7-4c16-ba9b-2371715c5fc0",
     "prev": "fa7ed61c-a009-46e4-b4c5-aa47ae767510",
     "regions": {
      "a19a5a4b-6a4d-4b8e-9c67-d82da9a99f6b": {
       "attrs": {
        "height": 0.8,
        "width": 0.8,
        "x": 0.1,
        "y": 0.1
       },
       "content": {
        "cell": "0c1e60b7-54f9-43e6-b52a-ee1e0d750e4a",
        "part": "whole"
       },
       "id": "a19a5a4b-6a4d-4b8e-9c67-d82da9a99f6b"
      }
     }
    },
    "8b651f58-724a-48ae-b508-685f1e953950": {
     "id": "8b651f58-724a-48ae-b508-685f1e953950",
     "prev": "a43fc2a8-30c1-46c8-be2a-8c25d5328fc2",
     "regions": {
      "21ef8c58-03b9-400e-86e0-1d2761902db3": {
       "attrs": {
        "height": 0.8,
        "width": 0.8,
        "x": 0.1,
        "y": 0.1
       },
       "content": {
        "cell": "75aa9571-1616-416a-90a5-5a49682ba16d",
        "part": "whole"
       },
       "id": "21ef8c58-03b9-400e-86e0-1d2761902db3"
      }
     }
    },
    "8e531252-dacb-46b3-b65c-adb229353bfb": {
     "id": "8e531252-dacb-46b3-b65c-adb229353bfb",
     "prev": "ac456b44-0236-4d29-ae9a-c6398ad2d3c0",
     "regions": {
      "10ae65b3-c6ff-43b1-82c2-6fff56e3a1f8": {
       "attrs": {
        "height": 0.8,
        "width": 0.8,
        "x": 0.1,
        "y": 0.1
       },
       "content": {
        "cell": "9f669eb6-a546-4682-8d5a-3a431cdc096b",
        "part": "whole"
       },
       "id": "10ae65b3-c6ff-43b1-82c2-6fff56e3a1f8"
      }
     }
    },
    "959cb6bc-88b5-4bd5-bf45-b566db69ec2e": {
     "id": "959cb6bc-88b5-4bd5-bf45-b566db69ec2e",
     "prev": "b38fff8f-d041-4b97-9632-142062eee767",
     "regions": {
      "057a76a0-f489-4572-81ce-eff65b8b3602": {
       "attrs": {
        "height": 0.8,
        "width": 0.8,
        "x": 0.1,
        "y": 0.1
       },
       "content": {
        "cell": "be46c919-bc7b-4ad8-8821-a97d6558713d",
        "part": "whole"
       },
       "id": "057a76a0-f489-4572-81ce-eff65b8b3602"
      }
     }
    },
    "96312088-219e-4cb0-ad1e-05613e9d7cbb": {
     "id": "96312088-219e-4cb0-ad1e-05613e9d7cbb",
     "prev": "5aed3973-5af7-45d7-bbb5-33fd276a60ab",
     "regions": {
      "f86eb4f0-0a3c-4fee-a419-cbbb55946a0f": {
       "attrs": {
        "height": 0.8,
        "width": 0.8,
        "x": 0.1,
        "y": 0.1
       },
       "content": {
        "cell": "55105149-4e07-4b0b-9943-5c09e101c772",
        "part": "whole"
       },
       "id": "f86eb4f0-0a3c-4fee-a419-cbbb55946a0f"
      }
     }
    },
    "9a608089-c148-4fb0-8723-be913c1bbcff": {
     "id": "9a608089-c148-4fb0-8723-be913c1bbcff",
     "prev": "b84ae454-7f80-46d1-8582-f9643aa3c88a",
     "regions": {
      "ab53ef3c-7c5f-46c1-902b-b1d7a10364e5": {
       "attrs": {
        "height": 0.8,
        "width": 0.8,
        "x": 0.1,
        "y": 0.1
       },
       "content": {
        "cell": "1102635f-30c9-4210-8b98-3d835342eb96",
        "part": "whole"
       },
       "id": "ab53ef3c-7c5f-46c1-902b-b1d7a10364e5"
      }
     }
    },
    "a136411a-5769-462c-abda-2ee72d38a7f0": {
     "id": "a136411a-5769-462c-abda-2ee72d38a7f0",
     "prev": "da779fc9-40e1-4659-8dc0-b31c6a3c147c",
     "regions": {
      "ce6b1991-5c7e-4f4e-8de9-4a615735ddf5": {
       "attrs": {
        "height": 0.8,
        "width": 0.8,
        "x": 0.1,
        "y": 0.1
       },
       "content": {
        "cell": "deec2d50-ef21-4cba-8ac1-5290b92cfee4",
        "part": "whole"
       },
       "id": "ce6b1991-5c7e-4f4e-8de9-4a615735ddf5"
      }
     }
    },
    "a43fc2a8-30c1-46c8-be2a-8c25d5328fc2": {
     "id": "a43fc2a8-30c1-46c8-be2a-8c25d5328fc2",
     "prev": "959cb6bc-88b5-4bd5-bf45-b566db69ec2e",
     "regions": {
      "22a7246d-778a-445e-ab0c-aa8968685a1f": {
       "attrs": {
        "height": 0.8,
        "width": 0.8,
        "x": 0.1,
        "y": 0.1
       },
       "content": {
        "cell": "3dea2040-0bfa-4943-88ef-0b0251976f64",
        "part": "whole"
       },
       "id": "22a7246d-778a-445e-ab0c-aa8968685a1f"
      }
     }
    },
    "a6482400-8fe1-49a6-af87-644c7affbbca": {
     "id": "a6482400-8fe1-49a6-af87-644c7affbbca",
     "prev": "37a33dbe-b23e-4381-a7b0-e19609aa3c02",
     "regions": {
      "925e8c6c-b8f6-49c2-9b56-b70caf5aaad8": {
       "attrs": {
        "height": 0.8,
        "width": 0.8,
        "x": 0.1,
        "y": 0.1
       },
       "content": {
        "cell": "dc0ee197-cabb-4c5b-8160-2f57e080abde",
        "part": "whole"
       },
       "id": "925e8c6c-b8f6-49c2-9b56-b70caf5aaad8"
      }
     }
    },
    "ac456b44-0236-4d29-ae9a-c6398ad2d3c0": {
     "id": "ac456b44-0236-4d29-ae9a-c6398ad2d3c0",
     "prev": "4a80d23f-7c82-4f86-9f04-e347d3d768dd",
     "regions": {
      "b8c6503d-df74-4701-9d3e-809b05be4d03": {
       "attrs": {
        "height": 0.8,
        "width": 0.8,
        "x": 0.1,
        "y": 0.1
       },
       "content": {
        "cell": "0242c84b-d837-41c3-8eb2-734718ae9fd1",
        "part": "whole"
       },
       "id": "b8c6503d-df74-4701-9d3e-809b05be4d03"
      }
     }
    },
    "b38fff8f-d041-4b97-9632-142062eee767": {
     "id": "b38fff8f-d041-4b97-9632-142062eee767",
     "prev": "803c2834-255f-42c3-9a0c-fc21b0263b72",
     "regions": {
      "ac6eb288-ea23-4432-9bdd-983a268f8a84": {
       "attrs": {
        "height": 0.8,
        "width": 0.8,
        "x": 0.1,
        "y": 0.1
       },
       "content": {
        "cell": "3ff43055-986b-415f-b39b-e770bcda3c9a",
        "part": "whole"
       },
       "id": "ac6eb288-ea23-4432-9bdd-983a268f8a84"
      }
     }
    },
    "b6d6c2a9-4564-4889-8042-9644c7b5c5bc": {
     "id": "b6d6c2a9-4564-4889-8042-9644c7b5c5bc",
     "prev": "496834fc-f5f8-4528-8fdf-ffada7493069",
     "regions": {
      "c3b7fecd-2ee4-4bb3-963c-d088acfc1793": {
       "attrs": {
        "height": 0.8,
        "width": 0.8,
        "x": 0.1,
        "y": 0.1
       },
       "content": {
        "cell": "1a431e2a-534b-4e13-b544-ec8d094b156a",
        "part": "whole"
       },
       "id": "c3b7fecd-2ee4-4bb3-963c-d088acfc1793"
      }
     }
    },
    "b791f6b1-9d83-43b3-aa81-d7751791263a": {
     "id": "b791f6b1-9d83-43b3-aa81-d7751791263a",
     "prev": "8698651c-b5ca-4a73-a5fb-ec597deb8021",
     "regions": {
      "e6c5721a-6d0c-466a-9127-f6dd5e5f12dd": {
       "attrs": {
        "height": 0.8,
        "width": 0.8,
        "x": 0.1,
        "y": 0.1
       },
       "content": {
        "cell": "15768f98-e34d-414e-b54b-5b9365c98b95",
        "part": "whole"
       },
       "id": "e6c5721a-6d0c-466a-9127-f6dd5e5f12dd"
      }
     }
    },
    "b84ae454-7f80-46d1-8582-f9643aa3c88a": {
     "id": "b84ae454-7f80-46d1-8582-f9643aa3c88a",
     "prev": "96312088-219e-4cb0-ad1e-05613e9d7cbb",
     "regions": {
      "f31323a6-9e0d-4367-bb39-5f0b63d46e45": {
       "attrs": {
        "height": 0.8,
        "width": 0.8,
        "x": 0.1,
        "y": 0.1
       },
       "content": {
        "cell": "bee761ea-e3ef-4d34-b9b3-1b0edc3a5796",
        "part": "whole"
       },
       "id": "f31323a6-9e0d-4367-bb39-5f0b63d46e45"
      }
     }
    },
    "bab20373-68ec-487b-8996-a9da7e77e157": {
     "id": "bab20373-68ec-487b-8996-a9da7e77e157",
     "prev": "2503811e-c43e-429f-b1ee-373a23fff7bd",
     "regions": {
      "99b9f810-c6db-4883-b29e-abb744540979": {
       "attrs": {
        "height": 0.8,
        "width": 0.8,
        "x": 0.1,
        "y": 0.1
       },
       "content": {
        "cell": "d5ba04c5-1dd1-48f1-94ae-a022814135a6",
        "part": "whole"
       },
       "id": "99b9f810-c6db-4883-b29e-abb744540979"
      }
     }
    },
    "c313db45-2c40-418a-8211-e92d997e640a": {
     "id": "c313db45-2c40-418a-8211-e92d997e640a",
     "prev": "a136411a-5769-462c-abda-2ee72d38a7f0",
     "regions": {
      "ccc54f2e-8f57-4ee4-8020-cb26e4954af4": {
       "attrs": {
        "height": 0.8,
        "width": 0.8,
        "x": 0.1,
        "y": 0.1
       },
       "content": {
        "cell": "bd876102-b7a8-48c6-ac8a-78b751ed87f4",
        "part": "whole"
       },
       "id": "ccc54f2e-8f57-4ee4-8020-cb26e4954af4"
      }
     }
    },
    "c3a0d00b-f56b-48b7-bdc8-5d6fff30c19b": {
     "id": "c3a0d00b-f56b-48b7-bdc8-5d6fff30c19b",
     "prev": "f2316f2a-3fbc-4878-b05b-970a21f83f48",
     "regions": {
      "7dde43b1-dde2-45b7-aa41-684ccbf487e2": {
       "attrs": {
        "height": 0.8,
        "width": 0.8,
        "x": 0.1,
        "y": 0.1
       },
       "content": {
        "cell": "854fe942-b5b9-4e49-a921-b5e05037593f",
        "part": "whole"
       },
       "id": "7dde43b1-dde2-45b7-aa41-684ccbf487e2"
      }
     }
    },
    "d1b21011-e21a-419b-9ad3-a7144cdb1aee": {
     "id": "d1b21011-e21a-419b-9ad3-a7144cdb1aee",
     "prev": "842c745f-b6ae-4550-860b-859aeb373a20",
     "regions": {
      "d13f70b5-82cf-40f0-a704-9ba8ecd32421": {
       "attrs": {
        "height": 0.8,
        "width": 0.8,
        "x": 0.1,
        "y": 0.1
       },
       "content": {
        "cell": "55b90582-ddad-4923-a73c-27600676aa58",
        "part": "whole"
       },
       "id": "d13f70b5-82cf-40f0-a704-9ba8ecd32421"
      }
     }
    },
    "d7e439f7-ba39-40c2-b293-c49ccd578921": {
     "id": "d7e439f7-ba39-40c2-b293-c49ccd578921",
     "prev": "30b37ac1-3996-4850-886e-ce949ffcd63b",
     "regions": {
      "c9c9cc79-8e10-4ec2-a71c-ba309c9c6df4": {
       "attrs": {
        "height": 0.8,
        "width": 0.8,
        "x": 0.1,
        "y": 0.1
       },
       "content": {
        "cell": "9603d2df-fbe3-4b96-ad00-c617dc4fa3aa",
        "part": "whole"
       },
       "id": "c9c9cc79-8e10-4ec2-a71c-ba309c9c6df4"
      }
     }
    },
    "da779fc9-40e1-4659-8dc0-b31c6a3c147c": {
     "id": "da779fc9-40e1-4659-8dc0-b31c6a3c147c",
     "prev": "b791f6b1-9d83-43b3-aa81-d7751791263a",
     "regions": {
      "23214a71-4b61-4a13-af23-f74b3077ac0a": {
       "attrs": {
        "height": 0.8,
        "width": 0.8,
        "x": 0.1,
        "y": 0.1
       },
       "content": {
        "cell": "ee899eb2-27f6-4f24-82e4-5d48701e2f92",
        "part": "whole"
       },
       "id": "23214a71-4b61-4a13-af23-f74b3077ac0a"
      }
     }
    },
    "ed7af3f2-9d07-4670-ad36-c7b5a91ab405": {
     "id": "ed7af3f2-9d07-4670-ad36-c7b5a91ab405",
     "prev": "175d56f0-9172-4a57-91a4-cf0ef21c6543",
     "regions": {
      "19aefe5d-1380-4b50-8eee-daee5d56cade": {
       "attrs": {
        "height": 0.8,
        "width": 0.8,
        "x": 0.1,
        "y": 0.1
       },
       "content": {
        "cell": "5431ea7e-8bc9-41b7-b866-b67f3655ad44",
        "part": "whole"
       },
       "id": "19aefe5d-1380-4b50-8eee-daee5d56cade"
      }
     }
    },
    "f2316f2a-3fbc-4878-b05b-970a21f83f48": {
     "id": "f2316f2a-3fbc-4878-b05b-970a21f83f48",
     "prev": "33fa4ab7-c3f9-42ae-a52a-1443a3cc5171",
     "regions": {
      "46a7950d-31a2-4f80-8953-ccc134adbec3": {
       "attrs": {
        "height": 0.8,
        "width": 0.8,
        "x": 0.1,
        "y": 0.1
       },
       "content": {
        "cell": "a406c3d9-9c15-4399-9088-589a1c8a9ed8",
        "part": "whole"
       },
       "id": "46a7950d-31a2-4f80-8953-ccc134adbec3"
      }
     }
    },
    "f3d73ea4-5cf9-4d51-9808-dcb7a9f68e4f": {
     "id": "f3d73ea4-5cf9-4d51-9808-dcb7a9f68e4f",
     "prev": "56a70e4e-1e1d-4a0c-b8fe-7be0702d64f1",
     "regions": {
      "cb3852a7-6094-45ab-9509-9c299769a524": {
       "attrs": {
        "height": 0.8,
        "width": 0.8,
        "x": 0.1,
        "y": 0.1
       },
       "content": {
        "cell": "ab541cac-38eb-4f27-8dfa-891b5b8ac8d0",
        "part": "whole"
       },
       "id": "cb3852a7-6094-45ab-9509-9c299769a524"
      }
     }
    },
    "fa7ed61c-a009-46e4-b4c5-aa47ae767510": {
     "id": "fa7ed61c-a009-46e4-b4c5-aa47ae767510",
     "prev": "87e50aad-4575-43c0-8c20-1ef97944f051",
     "regions": {
      "e08aadba-fe8a-4e4a-87dd-b195e630aee2": {
       "attrs": {
        "height": 0.8,
        "width": 0.8,
        "x": 0.1,
        "y": 0.1
       },
       "content": {
        "cell": "30c7ba17-8733-4a92-8b7e-758a38dd5822",
        "part": "whole"
       },
       "id": "e08aadba-fe8a-4e4a-87dd-b195e630aee2"
      }
     }
    }
   },
   "themes": {}
  }
 },
 "nbformat": 4,
 "nbformat_minor": 0
}
